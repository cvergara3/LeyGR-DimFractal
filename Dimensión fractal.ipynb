{
 "cells": [
  {
   "cell_type": "code",
   "execution_count": 179,
   "metadata": {},
   "outputs": [],
   "source": [
    "#Importar librerías necesarias\n",
    "\n",
    "import pandas as pd\n",
    "import matplotlib.pyplot as plt\n",
    "import numpy as np\n",
    "from sklearn.linear_model import LinearRegression, Ridge, Lasso\n",
    "import scipy.optimize as spopt\n",
    "import scipy.fftpack as spfft\n",
    "import scipy.ndimage as spimg"
   ]
  },
  {
   "cell_type": "code",
   "execution_count": 180,
   "metadata": {},
   "outputs": [
    {
     "data": {
      "text/html": [
       "<div>\n",
       "<style scoped>\n",
       "    .dataframe tbody tr th:only-of-type {\n",
       "        vertical-align: middle;\n",
       "    }\n",
       "\n",
       "    .dataframe tbody tr th {\n",
       "        vertical-align: top;\n",
       "    }\n",
       "\n",
       "    .dataframe thead th {\n",
       "        text-align: right;\n",
       "    }\n",
       "</style>\n",
       "<table border=\"1\" class=\"dataframe\">\n",
       "  <thead>\n",
       "    <tr style=\"text-align: right;\">\n",
       "      <th></th>\n",
       "      <th>ANO</th>\n",
       "      <th>MES</th>\n",
       "      <th>DIA</th>\n",
       "      <th>LATITUD</th>\n",
       "      <th>LONGITUD</th>\n",
       "      <th>PROFUNDIDAD</th>\n",
       "      <th>COLOR</th>\n",
       "      <th>Ml</th>\n",
       "      <th>SIZE</th>\n",
       "      <th>Mw</th>\n",
       "      <th>DEPARTAMENTO</th>\n",
       "      <th>MUNICIPIO</th>\n",
       "      <th>X</th>\n",
       "      <th>Y</th>\n",
       "    </tr>\n",
       "  </thead>\n",
       "  <tbody>\n",
       "    <tr>\n",
       "      <th>0</th>\n",
       "      <td>2001</td>\n",
       "      <td>1</td>\n",
       "      <td>14</td>\n",
       "      <td>6.591</td>\n",
       "      <td>-73.070</td>\n",
       "      <td>214.8</td>\n",
       "      <td>1</td>\n",
       "      <td>2.3</td>\n",
       "      <td>2</td>\n",
       "      <td>NaN</td>\n",
       "      <td>SANTANDER</td>\n",
       "      <td>CURITI</td>\n",
       "      <td>1111807.466</td>\n",
       "      <td>1220394.417</td>\n",
       "    </tr>\n",
       "    <tr>\n",
       "      <th>1</th>\n",
       "      <td>2004</td>\n",
       "      <td>5</td>\n",
       "      <td>4</td>\n",
       "      <td>6.636</td>\n",
       "      <td>-73.355</td>\n",
       "      <td>208.3</td>\n",
       "      <td>1</td>\n",
       "      <td>2.3</td>\n",
       "      <td>2</td>\n",
       "      <td>NaN</td>\n",
       "      <td>SANTANDER</td>\n",
       "      <td>GALAN</td>\n",
       "      <td>1080277.712</td>\n",
       "      <td>1225316.756</td>\n",
       "    </tr>\n",
       "    <tr>\n",
       "      <th>2</th>\n",
       "      <td>2001</td>\n",
       "      <td>2</td>\n",
       "      <td>12</td>\n",
       "      <td>6.985</td>\n",
       "      <td>-73.347</td>\n",
       "      <td>202.5</td>\n",
       "      <td>1</td>\n",
       "      <td>2.5</td>\n",
       "      <td>2</td>\n",
       "      <td>NaN</td>\n",
       "      <td>SANTANDER</td>\n",
       "      <td>BETULIA</td>\n",
       "      <td>1081104.106</td>\n",
       "      <td>1263917.405</td>\n",
       "    </tr>\n",
       "    <tr>\n",
       "      <th>3</th>\n",
       "      <td>2003</td>\n",
       "      <td>6</td>\n",
       "      <td>1</td>\n",
       "      <td>5.823</td>\n",
       "      <td>-73.994</td>\n",
       "      <td>201.6</td>\n",
       "      <td>1</td>\n",
       "      <td>2.4</td>\n",
       "      <td>2</td>\n",
       "      <td>NaN</td>\n",
       "      <td>SANTANDER</td>\n",
       "      <td>FLORIAN</td>\n",
       "      <td>1009627.383</td>\n",
       "      <td>1135350.814</td>\n",
       "    </tr>\n",
       "    <tr>\n",
       "      <th>4</th>\n",
       "      <td>2000</td>\n",
       "      <td>6</td>\n",
       "      <td>25</td>\n",
       "      <td>6.312</td>\n",
       "      <td>-73.061</td>\n",
       "      <td>200.0</td>\n",
       "      <td>1</td>\n",
       "      <td>3.8</td>\n",
       "      <td>10</td>\n",
       "      <td>NaN</td>\n",
       "      <td>SANTANDER</td>\n",
       "      <td>COROMORO</td>\n",
       "      <td>1112864.450</td>\n",
       "      <td>1189537.218</td>\n",
       "    </tr>\n",
       "    <tr>\n",
       "      <th>...</th>\n",
       "      <td>...</td>\n",
       "      <td>...</td>\n",
       "      <td>...</td>\n",
       "      <td>...</td>\n",
       "      <td>...</td>\n",
       "      <td>...</td>\n",
       "      <td>...</td>\n",
       "      <td>...</td>\n",
       "      <td>...</td>\n",
       "      <td>...</td>\n",
       "      <td>...</td>\n",
       "      <td>...</td>\n",
       "      <td>...</td>\n",
       "      <td>...</td>\n",
       "    </tr>\n",
       "    <tr>\n",
       "      <th>38644</th>\n",
       "      <td>2001</td>\n",
       "      <td>4</td>\n",
       "      <td>15</td>\n",
       "      <td>7.225</td>\n",
       "      <td>-73.732</td>\n",
       "      <td>54.0</td>\n",
       "      <td>1</td>\n",
       "      <td>2.3</td>\n",
       "      <td>2</td>\n",
       "      <td>NaN</td>\n",
       "      <td>SANTANDER</td>\n",
       "      <td>PUERTO_WILCHES</td>\n",
       "      <td>1038538.733</td>\n",
       "      <td>1290411.505</td>\n",
       "    </tr>\n",
       "    <tr>\n",
       "      <th>38645</th>\n",
       "      <td>2002</td>\n",
       "      <td>8</td>\n",
       "      <td>8</td>\n",
       "      <td>6.488</td>\n",
       "      <td>-73.609</td>\n",
       "      <td>52.4</td>\n",
       "      <td>1</td>\n",
       "      <td>2.2</td>\n",
       "      <td>2</td>\n",
       "      <td>NaN</td>\n",
       "      <td>SANTANDER</td>\n",
       "      <td>SANTA_HELENA_DEL_OPON</td>\n",
       "      <td>1052203.436</td>\n",
       "      <td>1208915.186</td>\n",
       "    </tr>\n",
       "    <tr>\n",
       "      <th>38646</th>\n",
       "      <td>2001</td>\n",
       "      <td>4</td>\n",
       "      <td>11</td>\n",
       "      <td>6.529</td>\n",
       "      <td>-73.857</td>\n",
       "      <td>52.4</td>\n",
       "      <td>1</td>\n",
       "      <td>2.0</td>\n",
       "      <td>2</td>\n",
       "      <td>NaN</td>\n",
       "      <td>SANTANDER</td>\n",
       "      <td>PUERTO_PARRA</td>\n",
       "      <td>1024768.301</td>\n",
       "      <td>1213430.765</td>\n",
       "    </tr>\n",
       "    <tr>\n",
       "      <th>38647</th>\n",
       "      <td>2010</td>\n",
       "      <td>4</td>\n",
       "      <td>4</td>\n",
       "      <td>6.582</td>\n",
       "      <td>-74.027</td>\n",
       "      <td>52.0</td>\n",
       "      <td>1</td>\n",
       "      <td>2.0</td>\n",
       "      <td>2</td>\n",
       "      <td>NaN</td>\n",
       "      <td>SANTANDER</td>\n",
       "      <td>PUERTO_PARRA</td>\n",
       "      <td>1005964.538</td>\n",
       "      <td>1219286.977</td>\n",
       "    </tr>\n",
       "    <tr>\n",
       "      <th>38648</th>\n",
       "      <td>2010</td>\n",
       "      <td>8</td>\n",
       "      <td>31</td>\n",
       "      <td>6.736</td>\n",
       "      <td>-74.107</td>\n",
       "      <td>50.5</td>\n",
       "      <td>1</td>\n",
       "      <td>1.4</td>\n",
       "      <td>2</td>\n",
       "      <td>NaN</td>\n",
       "      <td>SANTANDER</td>\n",
       "      <td>PUERTO_PARRA</td>\n",
       "      <td>997117.962</td>\n",
       "      <td>1236317.710</td>\n",
       "    </tr>\n",
       "  </tbody>\n",
       "</table>\n",
       "<p>38649 rows × 14 columns</p>\n",
       "</div>"
      ],
      "text/plain": [
       "        ANO  MES  DIA  LATITUD  LONGITUD  PROFUNDIDAD  COLOR   Ml  SIZE  Mw  \\\n",
       "0      2001    1   14    6.591   -73.070        214.8      1  2.3     2 NaN   \n",
       "1      2004    5    4    6.636   -73.355        208.3      1  2.3     2 NaN   \n",
       "2      2001    2   12    6.985   -73.347        202.5      1  2.5     2 NaN   \n",
       "3      2003    6    1    5.823   -73.994        201.6      1  2.4     2 NaN   \n",
       "4      2000    6   25    6.312   -73.061        200.0      1  3.8    10 NaN   \n",
       "...     ...  ...  ...      ...       ...          ...    ...  ...   ...  ..   \n",
       "38644  2001    4   15    7.225   -73.732         54.0      1  2.3     2 NaN   \n",
       "38645  2002    8    8    6.488   -73.609         52.4      1  2.2     2 NaN   \n",
       "38646  2001    4   11    6.529   -73.857         52.4      1  2.0     2 NaN   \n",
       "38647  2010    4    4    6.582   -74.027         52.0      1  2.0     2 NaN   \n",
       "38648  2010    8   31    6.736   -74.107         50.5      1  1.4     2 NaN   \n",
       "\n",
       "      DEPARTAMENTO              MUNICIPIO            X            Y  \n",
       "0        SANTANDER                 CURITI  1111807.466  1220394.417  \n",
       "1        SANTANDER                  GALAN  1080277.712  1225316.756  \n",
       "2        SANTANDER                BETULIA  1081104.106  1263917.405  \n",
       "3        SANTANDER                FLORIAN  1009627.383  1135350.814  \n",
       "4        SANTANDER               COROMORO  1112864.450  1189537.218  \n",
       "...            ...                    ...          ...          ...  \n",
       "38644    SANTANDER         PUERTO_WILCHES  1038538.733  1290411.505  \n",
       "38645    SANTANDER  SANTA_HELENA_DEL_OPON  1052203.436  1208915.186  \n",
       "38646    SANTANDER           PUERTO_PARRA  1024768.301  1213430.765  \n",
       "38647    SANTANDER           PUERTO_PARRA  1005964.538  1219286.977  \n",
       "38648    SANTANDER           PUERTO_PARRA   997117.962  1236317.710  \n",
       "\n",
       "[38649 rows x 14 columns]"
      ]
     },
     "execution_count": 180,
     "metadata": {},
     "output_type": "execute_result"
    }
   ],
   "source": [
    "#Carga y filtro de los datos por tipo de magnitud\n",
    "\n",
    "data = pd.read_csv('sismologia_db.csv')\n",
    "data=data[data['PROFUNDIDAD']>50] #profundos\n",
    "#data=data[data['PROFUNDIDAD']<=50] #someros\n",
    "data"
   ]
  },
  {
   "cell_type": "code",
   "execution_count": 181,
   "metadata": {},
   "outputs": [],
   "source": [
    "df_punto2 = data[['X','Y','PROFUNDIDAD']]"
   ]
  },
  {
   "cell_type": "code",
   "execution_count": 182,
   "metadata": {},
   "outputs": [
    {
     "data": {
      "text/plain": [
       "array([[1108368.41427672],\n",
       "       [1242612.84847246],\n",
       "       [-144111.24479288]])"
      ]
     },
     "execution_count": 182,
     "metadata": {},
     "output_type": "execute_result"
    }
   ],
   "source": [
    "#Cálculo del centroide\n",
    "\n",
    "z=df_punto2['PROFUNDIDAD']*-1000\n",
    "y=df_punto2['Y']\n",
    "x=df_punto2['X']\n",
    "\n",
    "z_prom=np.mean(z)\n",
    "x_prom=np.mean(x)\n",
    "y_prom=np.mean(y)\n",
    "\n",
    "puntocentral=np.vstack((x_prom, y_prom, z_prom))\n",
    "puntocentral"
   ]
  },
  {
   "cell_type": "code",
   "execution_count": 183,
   "metadata": {},
   "outputs": [
    {
     "data": {
      "text/plain": [
       "282.0"
      ]
     },
     "execution_count": 183,
     "metadata": {},
     "output_type": "execute_result"
    }
   ],
   "source": [
    "# Cálculo de N, Cr y la distancia al centroide\n",
    "\n",
    "dist=np.sqrt(((x-x_prom)**2)+((y-y_prom)**2)+((z-z_prom)**2))\n",
    "N=len(df_punto2)\n",
    "\n",
    "def Nvalues(dist, r):\n",
    "    Nv=np.count_nonzero(dist < r)\n",
    "    Nv=np.mean(Nv)\n",
    "    return Nv\n",
    "\n",
    "def cr(Nr,N):\n",
    "    cr=(2*Nr)/(N*(N-1))\n",
    "    return cr\n",
    "\n",
    "amin = np.ceil(np.min(dist))\n",
    "amax = np.ceil(np.max(dist))\n",
    "\n",
    "r=np.linspace(amin, amax, N)\n",
    "c=np.zeros(len(r))\n",
    "Nr=np.zeros(len(r))\n",
    "\n",
    "for i in range (len(r)):\n",
    "    Nr[i] = Nvalues(dist, r[i])\n",
    "    \n",
    "for i in range (len(r)):\n",
    "    c[i]=cr(Nr[i],N)\n",
    "    \n",
    "amin"
   ]
  },
  {
   "cell_type": "code",
   "execution_count": 184,
   "metadata": {},
   "outputs": [
    {
     "name": "stderr",
     "output_type": "stream",
     "text": [
      "C:\\ProgramData\\Anaconda3\\lib\\site-packages\\ipykernel_launcher.py:3: SettingWithCopyWarning: \n",
      "A value is trying to be set on a copy of a slice from a DataFrame.\n",
      "Try using .loc[row_indexer,col_indexer] = value instead\n",
      "\n",
      "See the caveats in the documentation: https://pandas.pydata.org/pandas-docs/stable/user_guide/indexing.html#returning-a-view-versus-a-copy\n",
      "  This is separate from the ipykernel package so we can avoid doing imports until\n",
      "C:\\ProgramData\\Anaconda3\\lib\\site-packages\\ipykernel_launcher.py:4: SettingWithCopyWarning: \n",
      "A value is trying to be set on a copy of a slice from a DataFrame.\n",
      "Try using .loc[row_indexer,col_indexer] = value instead\n",
      "\n",
      "See the caveats in the documentation: https://pandas.pydata.org/pandas-docs/stable/user_guide/indexing.html#returning-a-view-versus-a-copy\n",
      "  after removing the cwd from sys.path.\n"
     ]
    }
   ],
   "source": [
    "#Definición de las variables r y c\n",
    "\n",
    "df_punto2['r']=r \n",
    "df_punto2['c']=c "
   ]
  },
  {
   "cell_type": "code",
   "execution_count": 185,
   "metadata": {},
   "outputs": [],
   "source": [
    "#Definir límite de la regresión\n",
    "\n",
    "Limite=25000\n",
    "valo_1= df_punto2['r'] < Limite\n",
    "x=np.log10(df_punto2['r'][valo_1]) \n",
    "y=np.log10(df_punto2['c'][valo_1])\n",
    "\n",
    "def predlog(x0, x):\n",
    "    return 10**(x0[0] + (x0[1]*np.log10(x)))"
   ]
  },
  {
   "cell_type": "code",
   "execution_count": 186,
   "metadata": {},
   "outputs": [
    {
     "data": {
      "text/plain": [
       "array([[-13.19685158],\n",
       "       [  2.07646586],\n",
       "       [  0.93870014]])"
      ]
     },
     "execution_count": 186,
     "metadata": {},
     "output_type": "execute_result"
    }
   ],
   "source": [
    "#Realizar regresión por la norma L1\n",
    "\n",
    "from scipy import stats\n",
    "slope, intercept, r_value, p_value, std_err=stats.linregress(x,y)\n",
    "r2_value=r_value*r_value\n",
    "lreg=np.vstack((intercept, slope, r2_value))\n",
    "lreg"
   ]
  },
  {
   "cell_type": "code",
   "execution_count": 187,
   "metadata": {},
   "outputs": [
    {
     "data": {
      "image/png": "[encoded data removed]",
      "text/plain": [
       "<Figure size 432x576 with 1 Axes>"
      ]
     },
     "metadata": {
      "needs_background": "light"
     },
     "output_type": "display_data"
    }
   ],
   "source": [
    "plt.rcParams.update({'font.family':'Times New Roman'})\n",
    "\n",
    "df_punto2.plot.scatter(x=\"r\", y=\"c\", c=\"darkorange\", figsize=(6,8))\n",
    "plt.xlabel('Distancia r [m]', fontsize=12)\n",
    "plt.ylabel('Integral de Correlación [Cr]', fontsize=12)\n",
    "plt.yscale(\"log\")\n",
    "plt.xscale(\"log\")\n",
    "plt.plot(r, predlog(lreg, r), 'k--')\n",
    "plt.xlim(5e3,2e5)\n",
    "plt.ylim(2e-6,1e-2)\n",
    "plt.grid()\n",
    "\n",
    "plt.savefig('fractal.png', dpi=400)\n"
   ]
  },
  {
   "cell_type": "code",
   "execution_count": 188,
   "metadata": {},
   "outputs": [
    {
     "data": {
      "text/plain": [
       "282.0"
      ]
     },
     "execution_count": 188,
     "metadata": {},
     "output_type": "execute_result"
    }
   ],
   "source": [
    "r.min()"
   ]
  },
  {
   "cell_type": "code",
   "execution_count": null,
   "metadata": {},
   "outputs": [],
   "source": []
  }
 ],
 "metadata": {
  "kernelspec": {
   "display_name": "Python 3",
   "language": "python",
   "name": "python3"
  },
  "language_info": {
   "codemirror_mode": {
    "name": "ipython",
    "version": 3
   },
   "file_extension": ".py",
   "mimetype": "text/x-python",
   "name": "python",
   "nbconvert_exporter": "python",
   "pygments_lexer": "ipython3",
   "version": "3.7.6"
  }
 },
 "nbformat": 4,
 "nbformat_minor": 4
}
